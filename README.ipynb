{
 "cells": [
  {
   "attachments": {},
   "cell_type": "markdown",
   "metadata": {},
   "source": [
    "# `modgraph`\n",
    "\n",
    "`modgraph` is a tool to explore a collection of tracker <i>mod</i>ule files as a module->sample _graph_.\n",
    "It can function both as a CLI app, and as a library to use in notebooks.\n",
    "In fact, this file is a [notebook](example.ipynb)!"
   ]
  },
  {
   "attachments": {},
   "cell_type": "markdown",
   "metadata": {},
   "source": [
    "## Using through CLI"
   ]
  },
  {
   "cell_type": "code",
   "execution_count": 10,
   "metadata": {
    "tags": []
   },
   "outputs": [
    {
     "name": "stdout",
     "output_type": "stream",
     "text": [
      "usage: modgraph [-h] [-f {csv,d2}] [-r RANK] files [files ...]\n",
      "\n",
      "positional arguments:\n",
      "  files                 module files to analyze\n",
      "\n",
      "options:\n",
      "  -h, --help            show this help message and exit\n",
      "  -f {csv,d2}, --format {csv,d2}\n",
      "                        output format\n",
      "  -r RANK, --rank RANK  min number of repeats for sample to be included\n"
     ]
    }
   ],
   "source": [
    "!python -m modgraph --help"
   ]
  },
  {
   "attachments": {},
   "cell_type": "markdown",
   "metadata": {},
   "source": [
    "### Example:"
   ]
  },
  {
   "cell_type": "code",
   "execution_count": 11,
   "metadata": {
    "tags": []
   },
   "outputs": [
    {
     "name": "stdout",
     "output_type": "stream",
     "text": [
      "mod_path,sample_name,sample_hash\n",
      "catherine on the waves.it,tambourin.steel.quiet     ,e1b32f84b2b788f0a58e277f4e152df5\n",
      "catherine on the waves.it,piano.001                 ,8ef52cdf9c20c9ada9df7bf4d3b59fc3\n",
      "dallying sadly in space.it,                          ,e1b32f84b2b788f0a58e277f4e152df5\n",
      "drifting to plutonia.it,tambourine.steel.quiet    ,e1b32f84b2b788f0a58e277f4e152df5\n",
      "heavenly fantasy.it,tambourin.steel.quiet     ,e1b32f84b2b788f0a58e277f4e152df5\n",
      "neverending illusion.it,piano.001                 ,8ef52cdf9c20c9ada9df7bf4d3b59fc3\n",
      "\"so close to you, my angel.it\",piano.001                 ,8ef52cdf9c20c9ada9df7bf4d3b59fc3\n",
      "sorrow.it,                          ,8ef52cdf9c20c9ada9df7bf4d3b59fc3\n",
      "sylvia.it,piano.001                 ,8ef52cdf9c20c9ada9df7bf4d3b59fc3\n",
      "tender storm.it,tambourin.steel.quiet     ,e1b32f84b2b788f0a58e277f4e152df5\n",
      "why (enhanced version).it,piano.001                 ,8ef52cdf9c20c9ada9df7bf4d3b59fc3\n",
      "why (enhanced version).it,tambourin.steel.quiet     ,e1b32f84b2b788f0a58e277f4e152df5\n"
     ]
    }
   ],
   "source": [
    "!python -m modgraph *.it --rank 6 --format csv"
   ]
  },
  {
   "attachments": {},
   "cell_type": "markdown",
   "metadata": {},
   "source": [
    "## Using as a library"
   ]
  },
  {
   "cell_type": "code",
   "execution_count": 13,
   "metadata": {},
   "outputs": [
    {
     "data": {
      "text/html": [
       "<div>\n",
       "<style scoped>\n",
       "    .dataframe tbody tr th:only-of-type {\n",
       "        vertical-align: middle;\n",
       "    }\n",
       "\n",
       "    .dataframe tbody tr th {\n",
       "        vertical-align: top;\n",
       "    }\n",
       "\n",
       "    .dataframe thead th {\n",
       "        text-align: right;\n",
       "    }\n",
       "</style>\n",
       "<table border=\"1\" class=\"dataframe\">\n",
       "  <thead>\n",
       "    <tr style=\"text-align: right;\">\n",
       "      <th></th>\n",
       "      <th></th>\n",
       "      <th>sample_name</th>\n",
       "    </tr>\n",
       "    <tr>\n",
       "      <th>mod_path</th>\n",
       "      <th>sample_hash</th>\n",
       "      <th></th>\n",
       "    </tr>\n",
       "  </thead>\n",
       "  <tbody>\n",
       "    <tr>\n",
       "      <th rowspan=\"5\" valign=\"top\">a day at the river.it</th>\n",
       "      <th>13dc761472f1e73cff4ed428be35a5c2</th>\n",
       "      <td>SoundWave.HiQual</td>\n",
       "    </tr>\n",
       "    <tr>\n",
       "      <th>29797bec77f15b782ee0d8f855720213</th>\n",
       "      <td>rimshot</td>\n",
       "    </tr>\n",
       "    <tr>\n",
       "      <th>3e741972e4147bfc395467a293bb11a4</th>\n",
       "      <td>Flute (Skaven)</td>\n",
       "    </tr>\n",
       "    <tr>\n",
       "      <th>46a82c17348315db0ec7d4558fb4a9e9</th>\n",
       "      <td>fx.750</td>\n",
       "    </tr>\n",
       "    <tr>\n",
       "      <th>6ce9cd4d2bd435dc6b410b4bc65eab2d</th>\n",
       "      <td>river.wav (Eagle)</td>\n",
       "    </tr>\n",
       "    <tr>\n",
       "      <th>...</th>\n",
       "      <th>...</th>\n",
       "      <td>...</td>\n",
       "    </tr>\n",
       "    <tr>\n",
       "      <th rowspan=\"5\" valign=\"top\">why (enhanced version).it</th>\n",
       "      <th>d9d2074594be1e44cebafdc840c84b94</th>\n",
       "      <td>DX-Strings 1</td>\n",
       "    </tr>\n",
       "    <tr>\n",
       "      <th>dcacd358eb1c8a23027d1dad35e44726</th>\n",
       "      <td>osterm1bass1</td>\n",
       "    </tr>\n",
       "    <tr>\n",
       "      <th>e1b32f84b2b788f0a58e277f4e152df5</th>\n",
       "      <td>tambourin.steel.quiet</td>\n",
       "    </tr>\n",
       "    <tr>\n",
       "      <th>e4f1c0e5019b51ff947d0966eeac29f8</th>\n",
       "      <td>electric.guitar.solo1</td>\n",
       "    </tr>\n",
       "    <tr>\n",
       "      <th>f8d42ab1418cdbf77a53355b600fc7fe</th>\n",
       "      <td>bassdrum.459</td>\n",
       "    </tr>\n",
       "  </tbody>\n",
       "</table>\n",
       "<p>216 rows × 1 columns</p>\n",
       "</div>"
      ],
      "text/plain": [
       "                                                                           sample_name\n",
       "mod_path                  sample_hash                                                 \n",
       "a day at the river.it     13dc761472f1e73cff4ed428be35a5c2  SoundWave.HiQual          \n",
       "                          29797bec77f15b782ee0d8f855720213  rimshot                   \n",
       "                          3e741972e4147bfc395467a293bb11a4  Flute (Skaven)            \n",
       "                          46a82c17348315db0ec7d4558fb4a9e9  fx.750                    \n",
       "                          6ce9cd4d2bd435dc6b410b4bc65eab2d  river.wav (Eagle)         \n",
       "...                                                                                ...\n",
       "why (enhanced version).it d9d2074594be1e44cebafdc840c84b94  DX-Strings 1              \n",
       "                          dcacd358eb1c8a23027d1dad35e44726  osterm1bass1              \n",
       "                          e1b32f84b2b788f0a58e277f4e152df5  tambourin.steel.quiet     \n",
       "                          e4f1c0e5019b51ff947d0966eeac29f8  electric.guitar.solo1     \n",
       "                          f8d42ab1418cdbf77a53355b600fc7fe  bassdrum.459              \n",
       "\n",
       "[216 rows x 1 columns]"
      ]
     },
     "execution_count": 13,
     "metadata": {},
     "output_type": "execute_result"
    }
   ],
   "source": [
    "import pandas as pd\n",
    "from modgraph import modgraph\n",
    "from glob import glob\n",
    "\n",
    "# digest your library into a mod_path -> sample_hash mapping\n",
    "df = pd.DataFrame(modgraph(glob(\"*.it\")))\n",
    "df = df.set_index(['mod_path', 'sample_hash']).sort_index()\n",
    "df"
   ]
  },
  {
   "cell_type": "code",
   "execution_count": 28,
   "metadata": {},
   "outputs": [
    {
     "data": {
      "text/plain": [
       "<AxesSubplot: ylabel='(sample_name, name)'>"
      ]
     },
     "execution_count": 28,
     "metadata": {},
     "output_type": "execute_result"
    },
    {
     "data": {
      "image/png": "[encoded data removed]",
      "text/plain": [
       "<Figure size 640x480 with 1 Axes>"
      ]
     },
     "metadata": {},
     "output_type": "display_data"
    }
   ],
   "source": [
    "def most_used(df, cutoff):\n",
    "    df = df.groupby(\"sample_hash\")\n",
    "    df = df.agg({\"sample_name\": [(\"name\", lambda g: g.mode()[0]), \"count\"]})\n",
    "    df = df.sort_values((\"sample_name\", \"count\"), ascending=False)\n",
    "    df = df[df[(\"sample_name\", \"count\")] >= cutoff]\n",
    "    return df\n",
    "\n",
    "most_used(df, cutoff=3).plot(kind=\"barh\", x=('sample_name', 'name'))\n"
   ]
  }
 ],
 "metadata": {
  "kernelspec": {
   "display_name": "Python 3.10.8 ('.venv': venv)",
   "language": "python",
   "name": "python3"
  },
  "language_info": {
   "codemirror_mode": {
    "name": "ipython",
    "version": 3
   },
   "file_extension": ".py",
   "mimetype": "text/x-python",
   "name": "python",
   "nbconvert_exporter": "python",
   "pygments_lexer": "ipython3",
   "version": "3.10.8"
  },
  "orig_nbformat": 4,
  "vscode": {
   "interpreter": {
    "hash": "8fb1d0cbf151530b700d71a5725caa0423b64a20c4408be7d6c167ccce612bef"
   }
  }
 },
 "nbformat": 4,
 "nbformat_minor": 2
}
